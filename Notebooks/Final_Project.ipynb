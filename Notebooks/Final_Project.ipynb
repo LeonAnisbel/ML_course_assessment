{
 "cells": [
  {
   "cell_type": "markdown",
   "id": "5e58b6d9-0cdd-4ef7-848a-272e6d2b9184",
   "metadata": {},
   "source": [
    "### End of Course Assessment "
   ]
  },
  {
   "cell_type": "code",
   "execution_count": null,
   "id": "f574ca7c-721e-4268-b01e-ecf08d95ed95",
   "metadata": {},
   "outputs": [],
   "source": []
  }
 ],
 "metadata": {
  "kernelspec": {
   "display_name": "Python 3",
   "language": "python",
   "name": "python3"
  },
  "language_info": {
   "codemirror_mode": {
    "name": "ipython",
    "version": 3
   },
   "file_extension": ".py",
   "mimetype": "text/x-python",
   "name": "python",
   "nbconvert_exporter": "python",
   "pygments_lexer": "ipython3",
   "version": "3.8.8"
  }
 },
 "nbformat": 4,
 "nbformat_minor": 5
}
